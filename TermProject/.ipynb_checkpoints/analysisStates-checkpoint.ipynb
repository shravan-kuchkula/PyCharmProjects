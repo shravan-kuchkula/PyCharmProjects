{
 "cells": [
  {
   "cell_type": "markdown",
   "metadata": {
    "collapsed": true
   },
   "source": [
    "Jupyter notebook for analyzing the jobs for a particular zipcode. \n",
    "Dice.com provides a convinient REST API to retrieve jobs in `json` format. The jobs retrieved from Dice API are cleaned and stored in MongoDB as json documents. MongoDB's aggregation framework is used to do the analysis. Python 3.6 along with Pymongo driver is used to interact with MongoDB. Finally, plots are displayed using Matplotlib and seaborn packages."
   ]
  },
  {
   "cell_type": "markdown",
   "metadata": {},
   "source": [
    "Code for DiceDAO is given below. The objective of this class is the initialize the connection to MongoDB and provide an interface to insert data into MongoDB, do ad-hoc analysis using simple `find` and complex `aggregration pipeline` queries. "
   ]
  },
  {
   "cell_type": "code",
   "execution_count": 1,
   "metadata": {
    "collapsed": true
   },
   "outputs": [],
   "source": [
    "import requests\n",
    "\n",
    "class DiceDAO:\n",
    "    def __init__(self, db, jobType, location):\n",
    "        self._db = db\n",
    "\n",
    "        # Clean jobType\n",
    "        # 1. replace spaces with '+'\n",
    "        # 2. convert to lower case\n",
    "        self._jobType = jobType.replace(\" \", \"+\").lower()\n",
    "\n",
    "        # location, use zipcode\n",
    "        self._location = location\n",
    "\n",
    "        # Derive the collection name as\n",
    "        # collectionName = jobType + location\n",
    "        # eg: datascientist07059\n",
    "        self._collection = getattr(self._db, jobType.replace(\" \", \"\").lower() + location)\n",
    "\n",
    "        # Construct the URL\n",
    "        self._url = \"http://service.dice.com/api/rest/jobsearch/v1/simple.json?text={}&city={}\".format(self._jobType,\n",
    "                                                                                                       self._location)\n",
    "\n",
    "    def retrieveJobs(self):\n",
    "        print(\"Retrieving jobs from URL:\")\n",
    "        print(self._url)\n",
    "\n",
    "        # Drop the collection to start fresh\n",
    "        print(\"Dropping collection {}\".format(getattr(self._collection, 'name')))\n",
    "        self._collection.drop()\n",
    "\n",
    "        # Retrieve jobs from the url and store them into mongodb\n",
    "        # Handle pagination and store all of the docs in one collection\n",
    "\n",
    "        r = requests.get(self._url)\n",
    "        json_data = r.json()\n",
    "\n",
    "        for item in json_data['resultItemList']:\n",
    "            self._collection.insert_one(item)\n",
    "\n",
    "        while json_data['count'] != json_data['lastDocument']:\n",
    "\n",
    "            # get nextUrl for paginated results\n",
    "            nextURL = json_data['nextUrl']\n",
    "            r = requests.get(\"http://service.dice.com\" + nextURL)\n",
    "\n",
    "            json_data = r.json()\n",
    "            for item in json_data['resultItemList']:\n",
    "                self._collection.insert_one(item)\n",
    "\n",
    "\n",
    "    def countJobs(self):\n",
    "\n",
    "        print(\"Count the jobs for a jobTitle and location\")\n",
    "        return (self._collection.count())\n",
    "\n",
    "\n",
    "    def filterJobsByCity(self, city):\n",
    "\n",
    "        print(\"Filtering jobs by city\")\n",
    "\n",
    "        # Construct query to be sent to mongodb\n",
    "        query = {\"location\": city}\n",
    "        projection = {\"_id\":0, \"detailUrl\": 0}\n",
    "\n",
    "        cursor = self._collection.find(query, projection)\n",
    "\n",
    "        for item in cursor:\n",
    "            print(item)\n",
    "\n",
    "    def groupByLocation(self):\n",
    "\n",
    "        print(\"Grouping by city and counting the number of jobs\")\n",
    "\n",
    "        query = [{\"$group\": {\n",
    "            \"_id\": \"$location\",\n",
    "            \"totalJobs\": {\"$sum\": 1}\n",
    "        }}]\n",
    "\n",
    "        cursor = self._collection.aggregate(query)\n",
    "\n",
    "        for item in cursor:\n",
    "            print(item)\n",
    "\n",
    "    def groupJobsByCompany(self):\n",
    "\n",
    "        print(\"Grouping jobs by company\")\n",
    "\n",
    "        query = [{\"$group\": {\n",
    "            \"_id\": \"$company\",\n",
    "            \"totalJobs\": {\"$sum\": 1}\n",
    "            }\n",
    "        },\n",
    "            {\"$sort\":{\n",
    "                \"totalJobs\":-1\n",
    "            }\n",
    "        }\n",
    "        ]\n",
    "\n",
    "        cursor = self._collection.aggregate(query)\n",
    "\n",
    "        return(cursor)\n",
    "\n",
    "        #for item in cursor:\n",
    "            #print(item)\n",
    "\n",
    "\n",
    "    def topCompanies(self):\n",
    "\n",
    "        print(\"Printing top companies\")\n",
    "\n",
    "        query = [{\"$group\": {\n",
    "            \"_id\": \"$company\",\n",
    "            \"totalJobs\": {\"$sum\": 1}\n",
    "            }\n",
    "        },\n",
    "            {\"$sort\":{\n",
    "                \"totalJobs\":-1\n",
    "            }\n",
    "        },\n",
    "            {\"$project\": {\n",
    "                \"_id\":0,\n",
    "                \"Company\":\"$_id\",\n",
    "                \"JobCount\":\"$totalJobs\"\n",
    "            }\n",
    "        },\n",
    "            {\"$limit\":20}\n",
    "        ]\n",
    "\n",
    "        return(self._collection.aggregate(query))"
   ]
  },
  {
   "cell_type": "markdown",
   "metadata": {},
   "source": [
    "Code for analysis.py is given below. "
   ]
  },
  {
   "cell_type": "code",
   "execution_count": 2,
   "metadata": {
    "collapsed": false
   },
   "outputs": [
    {
     "name": "stdout",
     "output_type": "stream",
     "text": [
      "Retrieving jobs from URL:\n",
      "http://service.dice.com/api/rest/jobsearch/v1/simple.json?text=data+scientist&city=07059\n",
      "Dropping collection datascientist07059\n",
      "Printing top companies\n",
      "                           Company  JobCount\n",
      "0                      CyberCoders       149\n",
      "1           Robert Half Technology       109\n",
      "2                      Kforce Inc.        66\n",
      "3                              UBS        59\n",
      "4                         Deloitte        58\n",
      "5        Capital Markets Placement        48\n",
      "6        Princeton Information Ltd        47\n",
      "7                    Matlen Silver        44\n",
      "8         U.S. Tech Solutions Inc.        42\n",
      "9              Gambit Technologies        41\n",
      "10                  Bloomberg L.P.        40\n",
      "11                 Design Strategy        39\n",
      "12  Software Guidance & Assistance        34\n",
      "13                 The Judge Group        33\n",
      "14                 JP Morgan Chase        28\n",
      "15                    Hyatt Leader        23\n",
      "16           Mitchell Martin, Inc.        22\n",
      "17           Futures Group IT LLC.        21\n",
      "18                  NTT DATA, Inc.        20\n",
      "19                TEKsystems, Inc.        19\n"
     ]
    }
   ],
   "source": [
    "import pymongo\n",
    "import pandas as pd\n",
    "\n",
    "\n",
    "from diceDAO import DiceDAO\n",
    "\n",
    "# Get a handle to connection object\n",
    "connection = pymongo.MongoClient(\"mongodb://localhost\")\n",
    "db = connection.jobs\n",
    "\n",
    "# Pass the connection object, job type, zipcode\n",
    "diceJobs = DiceDAO(db, \"Data Scientist\", \"07059\")\n",
    "\n",
    "# Retrieve the jobs from dice API and store in mongodb.\n",
    "diceJobs.retrieveJobs()\n",
    "\n",
    "# Get the top 20 companies hiring the desired skill\n",
    "cursor = diceJobs.topCompanies()\n",
    "\n",
    "# Use pandas to create a dataframe\n",
    "df = pd.DataFrame(list(cursor))\n",
    "\n",
    "# print the dataframe\n",
    "print(df)"
   ]
  },
  {
   "cell_type": "code",
   "execution_count": 3,
   "metadata": {
    "collapsed": false
   },
   "outputs": [
    {
     "data": {
      "image/png": "[encoded data removed]",
      "text/plain": [
       "<matplotlib.figure.Figure at 0x116c19240>"
      ]
     },
     "metadata": {},
     "output_type": "display_data"
    }
   ],
   "source": [
    "import matplotlib.pyplot as plt\n",
    "import seaborn as sns\n",
    "\n",
    "def displayBarPlot(dataFrame):\n",
    "    # plot a bar plot\n",
    "    sns.barplot(x=\"JobCount\", y=\"Company\", data=dataFrame, orient=\"h\")\n",
    "    plt.xlabel(\"Number of jobs\", fontsize=6)\n",
    "    plt.title(\"{} jobs in a 30 mile radius of {}\".format(\"Data Scientist\", \"07059\"))\n",
    "    plt.yticks(fontsize=6)\n",
    "    plt.xticks(fontsize=6)\n",
    "    plt.show()\n",
    "    \n",
    "displayBarPlot(df)"
   ]
  },
  {
   "cell_type": "code",
   "execution_count": 4,
   "metadata": {
    "collapsed": true
   },
   "outputs": [],
   "source": []
  },
  {
   "cell_type": "code",
   "execution_count": null,
   "metadata": {
    "collapsed": true
   },
   "outputs": [],
   "source": []
  }
 ],
 "metadata": {
  "kernelspec": {
   "display_name": "Python 3",
   "language": "python",
   "name": "python3"
  },
  "language_info": {
   "codemirror_mode": {
    "name": "ipython",
    "version": 3
   },
   "file_extension": ".py",
   "mimetype": "text/x-python",
   "name": "python",
   "nbconvert_exporter": "python",
   "pygments_lexer": "ipython3",
   "version": "3.6.0"
  }
 },
 "nbformat": 4,
 "nbformat_minor": 0
}
