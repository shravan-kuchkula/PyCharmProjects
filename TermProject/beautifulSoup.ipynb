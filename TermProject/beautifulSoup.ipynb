{
 "cells": [
  {
   "cell_type": "markdown",
   "metadata": {
    "collapsed": true
   },
   "source": [
    "BeautifulSoup Package - parse, prettify and extract HTML"
   ]
  },
  {
   "cell_type": "markdown",
   "metadata": {},
   "source": [
    "Parsing HTML with BeautifulSoup"
   ]
  },
  {
   "cell_type": "markdown",
   "metadata": {},
   "source": [
    "In this exercise you'll learn how to use BeautifulSoup package to parse, prettify and extract infromation from HTML."
   ]
  },
  {
   "cell_type": "markdown",
   "metadata": {},
   "source": [
    "Import the `BeautifulSoup` function from the bs4 package"
   ]
  },
  {
   "cell_type": "code",
   "execution_count": 1,
   "metadata": {},
   "outputs": [],
   "source": [
    "import requests\n",
    "from bs4 import BeautifulSoup"
   ]
  },
  {
   "cell_type": "markdown",
   "metadata": {},
   "source": [
    "Assign the URL of interest to the `url` variable"
   ]
  },
  {
   "cell_type": "code",
   "execution_count": 2,
   "metadata": {},
   "outputs": [],
   "source": [
    "# Specify url: url\n",
    "url = 'https://www.python.org/~guido/'"
   ]
  },
  {
   "cell_type": "markdown",
   "metadata": {},
   "source": [
    "Package the request to the URL, send the request and catch the response with a single function `requests.get()`, assigning the response to the variable `r`"
   ]
  },
  {
   "cell_type": "code",
   "execution_count": 3,
   "metadata": {},
   "outputs": [],
   "source": [
    "# Package the request, send the request and catch the response: r\n",
    "r = requests.get(url)"
   ]
  },
  {
   "cell_type": "markdown",
   "metadata": {},
   "source": [
    "Use the text attribute of the object r to return the HTML of the webpage as a string; store the result in a variable html_doc."
   ]
  },
  {
   "cell_type": "code",
   "execution_count": 4,
   "metadata": {},
   "outputs": [],
   "source": [
    "# Extracts the response as html: html_doc\n",
    "html_doc = r.text"
   ]
  },
  {
   "cell_type": "markdown",
   "metadata": {},
   "source": [
    "Create a BeautifulSoup object soup from the resulting HTML using the function BeautifulSoup()."
   ]
  },
  {
   "cell_type": "code",
   "execution_count": 5,
   "metadata": {},
   "outputs": [
    {
     "name": "stderr",
     "output_type": "stream",
     "text": [
      "/Users/Shravan/anaconda/lib/python3.6/site-packages/bs4/__init__.py:181: UserWarning: No parser was explicitly specified, so I'm using the best available HTML parser for this system (\"lxml\"). This usually isn't a problem, but if you run this code on another system, or in a different virtual environment, it may use a different parser and behave differently.\n\nThe code that caused this warning is on line 193 of the file /Users/Shravan/anaconda/lib/python3.6/runpy.py. To get rid of this warning, change code that looks like this:\n\n BeautifulSoup([your markup])\n\nto this:\n\n BeautifulSoup([your markup], \"lxml\")\n\n  markup_type=markup_type))\n"
     ]
    }
   ],
   "source": [
    "# Create a BeautifulSoup object from the HTML: soup\n",
    "soup = BeautifulSoup(html_doc)"
   ]
  },
  {
   "cell_type": "markdown",
   "metadata": {},
   "source": [
    "Use the method prettify() on soup and assign the result to pretty_soup."
   ]
  },
  {
   "cell_type": "code",
   "execution_count": 6,
   "metadata": {},
   "outputs": [],
   "source": [
    "# Prettify the BeautifulSoup object: pretty_soup\n",
    "pretty_soup = soup.prettify()"
   ]
  },
  {
   "cell_type": "code",
   "execution_count": 7,
   "metadata": {},
   "outputs": [
    {
     "name": "stdout",
     "output_type": "stream",
     "text": [
      "<html>\n <head>\n  <title>\n   Guido's Personal Home Page\n  </title>\n </head>\n <body bgcolor=\"#FFFFFF\" text=\"#000000\">\n  <h1>\n   <a href=\"pics.html\">\n    <img border=\"0\" src=\"images/IMG_2192.jpg\"/>\n   </a>\n   Guido van Rossum - Personal Home Page\n  </h1>\n  <p>\n   <a href=\"http://www.washingtonpost.com/wp-srv/business/longterm/microsoft/stories/1998/raymond120398.htm\">\n    <i>\n     \"Gawky and proud of it.\"\n    </i>\n   </a>\n  </p>\n  <h3>\n   <a href=\"http://metalab.unc.edu/Dave/Dr-Fun/df200004/df20000406.jpg\">\n    Who\nI Am\n   </a>\n  </h3>\n  <p>\n   Read\nmy\n   <a href=\"http://neopythonic.blogspot.com/2016/04/kings-day-speech.html\">\n    \"King's\nDay Speech\"\n   </a>\n   for some inspiration.\n  </p>\n  <p>\n   I am the author of the\n   <a href=\"http://www.python.org\">\n    Python\n   </a>\n   programming language.  See also my\n   <a href=\"Resume.html\">\n    resume\n   </a>\n   and my\n   <a href=\"Publications.html\">\n    publications list\n   </a>\n   , a\n   <a href=\"bio.html\">\n    brief bio\n   </a>\n   , assorted\n   <a href=\"http://legacy.python.org/doc/essays/\">\n    writings\n   </a>\n   ,\n   <a href=\"http://legacy.python.org/doc/essays/ppt/\">\n    presentations\n   </a>\n   and\n   <a href=\"interviews.html\">\n    interviews\n   </a>\n   (all about Python), some\n   <a href=\"pics.html\">\n    pictures of me\n   </a>\n   ,\n   <a href=\"http://neopythonic.blogspot.com\">\n    my new blog\n   </a>\n   , and\nmy\n   <a href=\"http://www.artima.com/weblogs/index.jsp?blogger=12088\">\n    old\nblog\n   </a>\n   on Artima.com.  I am\n   <a href=\"https://twitter.com/gvanrossum\">\n    @gvanrossum\n   </a>\n   on Twitter.  I\nalso have\na\n   <a href=\"https://plus.google.com/u/0/115212051037621986145/posts\">\n    G+\nprofile\n   </a>\n   .\n  </p>\n  <p>\n   In January 2013 I joined\n   <a href=\"http://www.dropbox.com\">\n    Dropbox\n   </a>\n   .  I work on various Dropbox\nproducts and have 50% for my Python work, no strings attached.\nPreviously, I have worked for Google, Elemental Security, Zope\nCorporation, BeOpen.com, CNRI, CWI, and SARA.  (See\nmy\n   <a href=\"Resume.html\">\n    resume\n   </a>\n   .)  I created Python while at CWI.\n  </p>\n  <h3>\n   How to Reach Me\n  </h3>\n  <p>\n   You can send email for me to guido (at) python.org.\nI read everything sent there, but if you ask\nme a question about using Python, it's likely that I won't have time\nto answer it, and will instead refer you to\nhelp (at) python.org,\n   <a href=\"http://groups.google.com/groups?q=comp.lang.python\">\n    comp.lang.python\n   </a>\n   or\n   <a href=\"http://stackoverflow.com\">\n    StackOverflow\n   </a>\n   .  If you need to\ntalk to me on the phone or send me something by snail mail, send me an\nemail and I'll gladly email you instructions on how to reach me.\n  </p>\n  <h3>\n   My Name\n  </h3>\n  <p>\n   My name often poses difficulties for Americans.\n  </p>\n  <p>\n   <b>\n    Pronunciation:\n   </b>\n   in Dutch, the \"G\" in Guido is a hard G,\npronounced roughly like the \"ch\" in Scottish \"loch\".  (Listen to the\n   <a href=\"guido.au\">\n    sound clip\n   </a>\n   .)  However, if you're\nAmerican, you may also pronounce it as the Italian \"Guido\".  I'm not\ntoo worried about the associations with mob assassins that some people\nhave. :-)\n  </p>\n  <p>\n   <b>\n    Spelling:\n   </b>\n   my last name is two words, and I'd like to keep it\nthat way, the spelling on some of my credit cards notwithstanding.\nDutch spelling rules dictate that when used in combination with my\nfirst name, \"van\" is not capitalized: \"Guido van Rossum\".  But when my\nlast name is used alone to refer to me, it is capitalized, for\nexample: \"As usual, Van Rossum was right.\"\n  </p>\n  <p>\n   <b>\n    Alphabetization:\n   </b>\n   in America, I show up in the alphabet under\n\"V\".  But in Europe, I show up under \"R\".  And some of my friends put\nme under \"G\" in their address book...\n  </p>\n  <h3>\n   More Hyperlinks\n  </h3>\n  <ul>\n   <li>\n    Here's a collection of\n    <a href=\"http://legacy.python.org/doc/essays/\">\n     essays\n    </a>\n    relating to Python\nthat I've written, including the foreword I wrote for Mark Lutz' book\n\"Programming Python\".\n    <p>\n    </p>\n   </li>\n   <li>\n    I own the official\n    <a href=\"images/license.jpg\">\n     <img align=\"center\" border=\"0\" height=\"75\" src=\"images/license_thumb.jpg\" width=\"100\"/>\n     Python license.\n    </a>\n    <p>\n    </p>\n   </li>\n  </ul>\n  <h3>\n   The Audio File Formats FAQ\n  </h3>\n  <p>\n   I was the original creator and maintainer of the Audio File Formats\nFAQ.  It is now maintained by Chris Bagwell\nat\n   <a href=\"http://www.cnpbagwell.com/audio-faq\">\n    http://www.cnpbagwell.com/audio-faq\n   </a>\n   .  And here is a link to\n   <a href=\"http://sox.sourceforge.net/\">\n    SOX\n   </a>\n   , to which I contributed\nsome early code.\n  </p>\n  <hr/>\n  <a href=\"images/internetdog.gif\">\n   \"On the Internet, nobody knows you're\na dog.\"\n  </a>\n  <hr/>\n </body>\n</html>\n"
     ]
    }
   ],
   "source": [
    "# Print the response\n",
    "print(pretty_soup)"
   ]
  },
  {
   "cell_type": "markdown",
   "metadata": {},
   "source": [
    "Next we will see how to get the text instead of the markup HTML"
   ]
  },
  {
   "cell_type": "code",
   "execution_count": 8,
   "metadata": {},
   "outputs": [
    {
     "name": "stdout",
     "output_type": "stream",
     "text": [
      "<title>Guido's Personal Home Page</title>\n\n\nGuido's Personal Home Page\n\n\n\n\nGuido van Rossum - Personal Home Page\n\"Gawky and proud of it.\"\nWho\nI Am\nRead\nmy \"King's\nDay Speech\" for some inspiration.\n\nI am the author of the Python\nprogramming language.  See also my resume\nand my publications list, a brief bio, assorted writings, presentations and interviews (all about Python), some\npictures of me,\nmy new blog, and\nmy old\nblog on Artima.com.  I am\n@gvanrossum on Twitter.  I\nalso have\na G+\nprofile.\n\nIn January 2013 I joined\nDropbox.  I work on various Dropbox\nproducts and have 50% for my Python work, no strings attached.\nPreviously, I have worked for Google, Elemental Security, Zope\nCorporation, BeOpen.com, CNRI, CWI, and SARA.  (See\nmy resume.)  I created Python while at CWI.\n\nHow to Reach Me\nYou can send email for me to guido (at) python.org.\nI read everything sent there, but if you ask\nme a question about using Python, it's likely that I won't have time\nto answer it, and will instead refer you to\nhelp (at) python.org,\ncomp.lang.python or\nStackOverflow.  If you need to\ntalk to me on the phone or send me something by snail mail, send me an\nemail and I'll gladly email you instructions on how to reach me.\n\nMy Name\nMy name often poses difficulties for Americans.\n\nPronunciation: in Dutch, the \"G\" in Guido is a hard G,\npronounced roughly like the \"ch\" in Scottish \"loch\".  (Listen to the\nsound clip.)  However, if you're\nAmerican, you may also pronounce it as the Italian \"Guido\".  I'm not\ntoo worried about the associations with mob assassins that some people\nhave. :-)\n\nSpelling: my last name is two words, and I'd like to keep it\nthat way, the spelling on some of my credit cards notwithstanding.\nDutch spelling rules dictate that when used in combination with my\nfirst name, \"van\" is not capitalized: \"Guido van Rossum\".  But when my\nlast name is used alone to refer to me, it is capitalized, for\nexample: \"As usual, Van Rossum was right.\"\n\nAlphabetization: in America, I show up in the alphabet under\n\"V\".  But in Europe, I show up under \"R\".  And some of my friends put\nme under \"G\" in their address book...\n\n\nMore Hyperlinks\n\nHere's a collection of essays relating to Python\nthat I've written, including the foreword I wrote for Mark Lutz' book\n\"Programming Python\".\nI own the official \nPython license.\n\nThe Audio File Formats FAQ\nI was the original creator and maintainer of the Audio File Formats\nFAQ.  It is now maintained by Chris Bagwell\nat http://www.cnpbagwell.com/audio-faq.  And here is a link to\nSOX, to which I contributed\nsome early code.\n\n\n\n\n\"On the Internet, nobody knows you're\na dog.\"\n\n\n\n"
     ]
    },
    {
     "name": "stderr",
     "output_type": "stream",
     "text": [
      "/Users/Shravan/anaconda/lib/python3.6/site-packages/bs4/__init__.py:181: UserWarning: No parser was explicitly specified, so I'm using the best available HTML parser for this system (\"lxml\"). This usually isn't a problem, but if you run this code on another system, or in a different virtual environment, it may use a different parser and behave differently.\n\nThe code that caused this warning is on line 193 of the file /Users/Shravan/anaconda/lib/python3.6/runpy.py. To get rid of this warning, change code that looks like this:\n\n BeautifulSoup([your markup])\n\nto this:\n\n BeautifulSoup([your markup], \"lxml\")\n\n  markup_type=markup_type))\n"
     ]
    }
   ],
   "source": [
    "# Import packages\n",
    "import requests\n",
    "from bs4 import BeautifulSoup\n",
    "\n",
    "# Specify url: url\n",
    "url = 'https://www.python.org/~guido/'\n",
    "\n",
    "# Package the request, send the request and catch the response: r\n",
    "r = requests.get(url)\n",
    "\n",
    "# Extract the response as html: html_doc\n",
    "html_doc = r.text\n",
    "\n",
    "# Create a BeautifulSoup object from the HTML: soup\n",
    "soup = BeautifulSoup(html_doc)\n",
    "\n",
    "# Get the title of Guido's webpage: guido_title\n",
    "guido_title = soup.title\n",
    "\n",
    "# Print the title of Guido's webpage to the shell\n",
    "print(guido_title)\n",
    "\n",
    "# Get Guido's text: guido_text\n",
    "guido_text = soup.get_text()\n",
    "\n",
    "# Print Guido's text to the shell\n",
    "print(guido_text)"
   ]
  },
  {
   "cell_type": "code",
   "execution_count": null,
   "metadata": {},
   "outputs": [],
   "source": [
    ""
   ]
  }
 ],
 "metadata": {
  "kernelspec": {
   "display_name": "Python 2",
   "language": "python",
   "name": "python2"
  },
  "language_info": {
   "codemirror_mode": {
    "name": "ipython",
    "version": 2.0
   },
   "file_extension": ".py",
   "mimetype": "text/x-python",
   "name": "python",
   "nbconvert_exporter": "python",
   "pygments_lexer": "ipython2",
   "version": "2.7.6"
  }
 },
 "nbformat": 4,
 "nbformat_minor": 0
}