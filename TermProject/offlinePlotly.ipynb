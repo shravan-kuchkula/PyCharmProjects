{
 "cells": [
  {
   "cell_type": "code",
   "execution_count": 1,
   "metadata": {},
   "outputs": [],
   "source": [
    "import plotly.plotly as py\n",
    "import pandas as pd"
   ]
  },
  {
   "cell_type": "code",
   "execution_count": 3,
   "metadata": {},
   "outputs": [],
   "source": [
    "from analysisCountry import AnalysisCountry"
   ]
  },
  {
   "cell_type": "code",
   "execution_count": 4,
   "metadata": {},
   "outputs": [],
   "source": [
    "country = AnalysisCountry(\"Data Scientist\", \"US\")"
   ]
  },
  {
   "cell_type": "code",
   "execution_count": 5,
   "metadata": {},
   "outputs": [
    {
     "name": "stdout",
     "output_type": "stream",
     "text": [
      "Group jobs by state and list top 20 states\nPrinting top companies\njobcount state\n    4964    CA\n    2431    NY\n    2261    TX\n    1704    VA\n    1586    NJ\n    1456    IL\n    1239    FL\n    1166    GA\n     992    PA\n     981    MD\n     961    MA\n     951    NC\n     824    WA\n     722    CO\n     713    MI\n     653    OH\n     619    DC\n     535    AZ\n     514    MN\n     488    MO\n"
     ]
    }
   ],
   "source": [
    "df = country.getJobsByState(barplot=False)"
   ]
  },
  {
   "cell_type": "code",
   "execution_count": 6,
   "metadata": {},
   "outputs": [
    {
     "name": "stdout",
     "output_type": "stream",
     "text": [
      "    jobcount state\n0       4964    CA\n1       2431    NY\n2       2261    TX\n3       1704    VA\n4       1586    NJ\n5       1456    IL\n6       1239    FL\n7       1166    GA\n8        992    PA\n9        981    MD\n10       961    MA\n11       951    NC\n12       824    WA\n13       722    CO\n14       713    MI\n15       653    OH\n16       619    DC\n17       535    AZ\n18       514    MN\n19       488    MO\n"
     ]
    }
   ],
   "source": [
    "print (df)"
   ]
  },
  {
   "cell_type": "code",
   "execution_count": 1,
   "metadata": {},
   "outputs": [],
   "source": [
    "from analysisCountry import AnalysisCountry"
   ]
  },
  {
   "cell_type": "code",
   "execution_count": 2,
   "metadata": {},
   "outputs": [],
   "source": [
    "country = AnalysisCountry(\"Data Scientist\", \"US\")"
   ]
  },
  {
   "cell_type": "code",
   "execution_count": 3,
   "metadata": {},
   "outputs": [
    {
     "name": "stdout",
     "output_type": "stream",
     "text": [
      "Getting job count for all 50 states\nPrinting top companies\njobcount state\n    4964    CA\n    2431    NY\n    2261    TX\n    1704    VA\n    1586    NJ\n    1456    IL\n    1239    FL\n    1166    GA\n     992    PA\n     981    MD\n     961    MA\n     951    NC\n     824    WA\n     722    CO\n     713    MI\n     653    OH\n     619    DC\n     535    AZ\n     514    MN\n     488    MO\n     432    CT\n     335    TN\n     329    WI\n     327    OR\n     239    SC\n     176    IN\n     161    LA\n     147    IA\n     138    NE\n     133    UT\n     129    OK\n     129    AL\n     112    NV\n     103    DE\n      95    KY\n      88    KS\n      71    NM\n      62    RI\n      45    NH\n      40    ME\n      32    ID\n      30    AR\n      28    WV\n      21    MS\n      20    HI\n      11    VT\n       7    MT\n       7    AK\n       7    SD\n       7    ND\n       3    WY\n"
     ]
    }
   ],
   "source": [
    "df = country.getJobCountAllStates()"
   ]
  },
  {
   "cell_type": "code",
   "execution_count": 4,
   "metadata": {},
   "outputs": [],
   "source": [
    "import plotly.plotly as py\n",
    "import pandas as pd"
   ]
  },
  {
   "cell_type": "code",
   "execution_count": 5,
   "metadata": {},
   "outputs": [],
   "source": [
    "for col in df.columns:\n",
    "    df[col] = df[col].astype(str)"
   ]
  },
  {
   "cell_type": "code",
   "execution_count": 6,
   "metadata": {},
   "outputs": [
    {
     "name": "stdout",
     "output_type": "stream",
     "text": [
      "   jobcount state\n0      4964    CA\n1      2431    NY\n2      2261    TX\n3      1704    VA\n4      1586    NJ\n5      1456    IL\n6      1239    FL\n7      1166    GA\n8       992    PA\n9       981    MD\n10      961    MA\n11      951    NC\n12      824    WA\n13      722    CO\n14      713    MI\n15      653    OH\n16      619    DC\n17      535    AZ\n18      514    MN\n19      488    MO\n20      432    CT\n21      335    TN\n22      329    WI\n23      327    OR\n24      239    SC\n25      176    IN\n26      161    LA\n27      147    IA\n28      138    NE\n29      133    UT\n30      129    OK\n31      129    AL\n32      112    NV\n33      103    DE\n34       95    KY\n35       88    KS\n36       71    NM\n37       62    RI\n38       45    NH\n39       40    ME\n40       32    ID\n41       30    AR\n42       28    WV\n43       21    MS\n44       20    HI\n45       11    VT\n46        7    MT\n47        7    AK\n48        7    SD\n49        7    ND\n50        3    WY\n"
     ]
    }
   ],
   "source": [
    "print(df)"
   ]
  },
  {
   "cell_type": "code",
   "execution_count": 7,
   "metadata": {},
   "outputs": [],
   "source": [
    "scl = [[0.0, 'rgb(242,240,247)'],[0.2, 'rgb(218,218,235)'],[0.4, 'rgb(188,189,220)'],\\\n",
    "            [0.6, 'rgb(158,154,200)'],[0.8, 'rgb(117,107,177)'],[1.0, 'rgb(84,39,143)']]"
   ]
  },
  {
   "cell_type": "code",
   "execution_count": 8,
   "metadata": {},
   "outputs": [],
   "source": [
    "df['text'] = df['state'] + '<br>' +\\\n",
    "    'Jobs '+df['jobcount']"
   ]
  },
  {
   "cell_type": "code",
   "execution_count": 16,
   "metadata": {},
   "outputs": [],
   "source": [
    "data = [ dict(\n",
    "        type='choropleth',\n",
    "        colorscale = scl,\n",
    "        autocolorscale = False,\n",
    "        locations = df['state'],\n",
    "        z = df['jobcount'].astype(float),\n",
    "        locationmode = 'USA-states',\n",
    "        text = df['text'],\n",
    "        marker = dict(\n",
    "            line = dict (\n",
    "                color = 'rgb(255,255,255)',\n",
    "                width = 2\n",
    "            ) ),\n",
    "        colorbar = dict(\n",
    "            title = \"Number of jobs\")\n",
    "        ) ]"
   ]
  },
  {
   "cell_type": "code",
   "execution_count": 10,
   "metadata": {},
   "outputs": [],
   "source": [
    "layout = dict(\n",
    "        title = 'Data Scientist Jobs by State<br>(Hover for count)',\n",
    "        geo = dict(\n",
    "            scope='usa',\n",
    "            projection=dict( type='albers usa' ),\n",
    "            showlakes = True,\n",
    "            lakecolor = 'rgb(255, 255, 255)'),\n",
    "             )"
   ]
  },
  {
   "cell_type": "code",
   "execution_count": 17,
   "metadata": {},
   "outputs": [],
   "source": [
    "fig = dict( data=data, layout=layout )"
   ]
  },
  {
   "cell_type": "code",
   "execution_count": 18,
   "metadata": {},
   "outputs": [
    {
     "data": {
      "text/html": [
       "<iframe id=\"igraph\" scrolling=\"no\" style=\"border:none;\" seamless=\"seamless\" src=\"https://plot.ly/~shravan-kuchkula/5.embed\" height=\"525px\" width=\"100%\"></iframe>"
      ],
      "text/plain": [
       "<iframe id=\"igraph\" scrolling=\"no\" style=\"border:none;\" seamless=\"seamless\" src=\"https://plot.ly/~shravan-kuchkula/5.embed\" height=\"525px\" width=\"100%\"></iframe>"
      ]
     },
     "execution_count": 18,
     "metadata": {},
     "output_type": "execute_result"
    }
   ],
   "source": [
    "py.iplot( fig, filename='d3-cloropleth-map' )"
   ]
  },
  {
   "cell_type": "code",
   "execution_count": null,
   "metadata": {},
   "outputs": [],
   "source": [
    ""
   ]
  }
 ],
 "metadata": {
  "kernelspec": {
   "display_name": "Python 2",
   "language": "python",
   "name": "python2"
  },
  "language_info": {
   "codemirror_mode": {
    "name": "ipython",
    "version": 2.0
   },
   "file_extension": ".py",
   "mimetype": "text/x-python",
   "name": "python",
   "nbconvert_exporter": "python",
   "pygments_lexer": "ipython2",
   "version": "2.7.6"
  }
 },
 "nbformat": 4,
 "nbformat_minor": 0
}