{
 "cells": [
  {
   "cell_type": "markdown",
   "metadata": {
    "collapsed": true
   },
   "source": [
    "### Live Session Unit 12 Assignment\n",
    "`Shravan Kuchkula`"
   ]
  },
  {
   "cell_type": "markdown",
   "metadata": {},
   "source": [
    "> 1. Create a list named my_list in python with the following data points - \n",
    "45.4 44.2 36.8 35.1 39.0 60.0 47.4 41.1 45.8 35.6"
   ]
  },
  {
   "cell_type": "code",
   "execution_count": 2,
   "metadata": {
    "collapsed": true
   },
   "outputs": [],
   "source": [
    "my_list = [45.4, 44.2, 36.8, 35.1, 39.0, 60.0, 47.4, 41.1, 45.8, 35.6]"
   ]
  },
  {
   "cell_type": "markdown",
   "metadata": {},
   "source": [
    "> a. Print the 5th element in the list"
   ]
  },
  {
   "cell_type": "code",
   "execution_count": 3,
   "metadata": {
    "collapsed": false
   },
   "outputs": [
    {
     "name": "stdout",
     "output_type": "stream",
     "text": [
      "39.0\n"
     ]
    }
   ],
   "source": [
    "print(my_list[4])"
   ]
  },
  {
   "cell_type": "markdown",
   "metadata": {},
   "source": [
    "> b. Append 55.2 to my_list"
   ]
  },
  {
   "cell_type": "code",
   "execution_count": 4,
   "metadata": {
    "collapsed": false
   },
   "outputs": [
    {
     "name": "stdout",
     "output_type": "stream",
     "text": [
      "[45.4, 44.2, 36.8, 35.1, 39.0, 60.0, 47.4, 41.1, 45.8, 35.6, 55.2]\n"
     ]
    }
   ],
   "source": [
    "my_list.append(55.2)\n",
    "print(my_list)"
   ]
  },
  {
   "cell_type": "markdown",
   "metadata": {},
   "source": [
    "c. Remove the 6th element in the list"
   ]
  },
  {
   "cell_type": "code",
   "execution_count": 5,
   "metadata": {
    "collapsed": false
   },
   "outputs": [
    {
     "name": "stdout",
     "output_type": "stream",
     "text": [
      "[45.4, 44.2, 36.8, 35.1, 39.0, 47.4, 41.1, 45.8, 35.6, 55.2]\n"
     ]
    }
   ],
   "source": [
    "my_list.remove(my_list[5])\n",
    "print(my_list)"
   ]
  },
  {
   "cell_type": "markdown",
   "metadata": {},
   "source": [
    "d. Iterate over the list to print data points greater than 45"
   ]
  },
  {
   "cell_type": "code",
   "execution_count": 6,
   "metadata": {
    "collapsed": false
   },
   "outputs": [
    {
     "name": "stdout",
     "output_type": "stream",
     "text": [
      "45.4\n",
      "47.4\n",
      "45.8\n",
      "55.2\n"
     ]
    }
   ],
   "source": [
    "for i in my_list:\n",
    "    if(i > 45):\n",
    "        print(i)"
   ]
  },
  {
   "cell_type": "markdown",
   "metadata": {},
   "source": [
    "Introduction to numpy"
   ]
  },
  {
   "cell_type": "markdown",
   "metadata": {},
   "source": [
    "a. Import the numpy library using the following command – import numpy"
   ]
  },
  {
   "cell_type": "code",
   "execution_count": 7,
   "metadata": {
    "collapsed": true
   },
   "outputs": [],
   "source": [
    "import numpy as np"
   ]
  },
  {
   "cell_type": "markdown",
   "metadata": {},
   "source": [
    "b. Declare numpy array with the same data points as in my_list using numpy.array()"
   ]
  },
  {
   "cell_type": "code",
   "execution_count": 8,
   "metadata": {
    "collapsed": false
   },
   "outputs": [
    {
     "name": "stdout",
     "output_type": "stream",
     "text": [
      "[ 45.4  44.2  36.8  35.1  39.   47.4  41.1  45.8  35.6  55.2]\n"
     ]
    }
   ],
   "source": [
    "np_my_list = np.array(my_list)\n",
    "print(np_my_list)"
   ]
  },
  {
   "cell_type": "markdown",
   "metadata": {},
   "source": [
    "c. Compute the mean and standard deviation using numpy.mean() and numpy.sd() of the above array"
   ]
  },
  {
   "cell_type": "code",
   "execution_count": 9,
   "metadata": {
    "collapsed": false
   },
   "outputs": [
    {
     "name": "stdout",
     "output_type": "stream",
     "text": [
      "42.56\n",
      "5.9709630714\n"
     ]
    }
   ],
   "source": [
    "print(np.mean(np_my_list))\n",
    "print(np.std(np_my_list))"
   ]
  },
  {
   "cell_type": "markdown",
   "metadata": {},
   "source": [
    "d. Use logical referencing to get only those values that are less than 45"
   ]
  },
  {
   "cell_type": "code",
   "execution_count": 10,
   "metadata": {
    "collapsed": false
   },
   "outputs": [
    {
     "name": "stdout",
     "output_type": "stream",
     "text": [
      "[ 44.2  36.8  35.1  39.   41.1  35.6]\n"
     ]
    }
   ],
   "source": [
    "print(np_my_list[np_my_list < 45])"
   ]
  },
  {
   "cell_type": "markdown",
   "metadata": {},
   "source": [
    "e. Compute the max and min of the array using numpy.max() and numpy.min()"
   ]
  },
  {
   "cell_type": "code",
   "execution_count": 11,
   "metadata": {
    "collapsed": false
   },
   "outputs": [
    {
     "name": "stdout",
     "output_type": "stream",
     "text": [
      "55.2\n",
      "35.1\n"
     ]
    }
   ],
   "source": [
    "print(np.max(np_my_list))\n",
    "print(np.min(np_my_list))"
   ]
  },
  {
   "cell_type": "markdown",
   "metadata": {
    "collapsed": true
   },
   "source": [
    "Introduction to Pandas"
   ]
  },
  {
   "cell_type": "markdown",
   "metadata": {},
   "source": [
    "a. Import the pandas library - import pandas"
   ]
  },
  {
   "cell_type": "code",
   "execution_count": 7,
   "metadata": {
    "collapsed": true
   },
   "outputs": [],
   "source": [
    "import pandas as pd"
   ]
  },
  {
   "cell_type": "markdown",
   "metadata": {},
   "source": [
    "b. Read the IRIS dataset into iris using pandas.read_csv()"
   ]
  },
  {
   "cell_type": "code",
   "execution_count": 8,
   "metadata": {
    "collapsed": true
   },
   "outputs": [],
   "source": [
    "iris = pd.read_csv(\"Iris.csv\")"
   ]
  },
  {
   "cell_type": "markdown",
   "metadata": {},
   "source": [
    "c. Using iris.head(), display the head of the dataset"
   ]
  },
  {
   "cell_type": "code",
   "execution_count": 9,
   "metadata": {
    "collapsed": false
   },
   "outputs": [
    {
     "name": "stdout",
     "output_type": "stream",
     "text": [
      "   Id  SepalLengthCm  SepalWidthCm  PetalLengthCm  PetalWidthCm      Species\n",
      "0   1            5.1           3.5            1.4           0.2  Iris-setosa\n",
      "1   2            4.9           3.0            1.4           0.2  Iris-setosa\n",
      "2   3            4.7           3.2            1.3           0.2  Iris-setosa\n",
      "3   4            4.6           3.1            1.5           0.2  Iris-setosa\n",
      "4   5            5.0           3.6            1.4           0.2  Iris-setosa\n"
     ]
    }
   ],
   "source": [
    "print(iris.head())"
   ]
  },
  {
   "cell_type": "markdown",
   "metadata": {},
   "source": [
    "d. Use DataFrame.drop() to drop the ID column"
   ]
  },
  {
   "cell_type": "code",
   "execution_count": 10,
   "metadata": {
    "collapsed": false
   },
   "outputs": [
    {
     "name": "stdout",
     "output_type": "stream",
     "text": [
      "   SepalLengthCm  SepalWidthCm  PetalLengthCm  PetalWidthCm      Species\n",
      "0            5.1           3.5            1.4           0.2  Iris-setosa\n",
      "1            4.9           3.0            1.4           0.2  Iris-setosa\n",
      "2            4.7           3.2            1.3           0.2  Iris-setosa\n",
      "3            4.6           3.1            1.5           0.2  Iris-setosa\n",
      "4            5.0           3.6            1.4           0.2  Iris-setosa\n"
     ]
    }
   ],
   "source": [
    "iris = iris.drop('Id', axis=1)\n",
    "print(iris.head())"
   ]
  },
  {
   "cell_type": "markdown",
   "metadata": {},
   "source": [
    "e. Subset dataframe to create a new data frame that includes only the measurements for the setosa species"
   ]
  },
  {
   "cell_type": "code",
   "execution_count": 11,
   "metadata": {
    "collapsed": false
   },
   "outputs": [
    {
     "name": "stdout",
     "output_type": "stream",
     "text": [
      "   SepalLengthCm  SepalWidthCm  PetalLengthCm  PetalWidthCm      Species\n",
      "0            5.1           3.5            1.4           0.2  Iris-setosa\n",
      "1            4.9           3.0            1.4           0.2  Iris-setosa\n",
      "2            4.7           3.2            1.3           0.2  Iris-setosa\n",
      "3            4.6           3.1            1.5           0.2  Iris-setosa\n",
      "4            5.0           3.6            1.4           0.2  Iris-setosa\n",
      "<class 'pandas.core.frame.DataFrame'>\n",
      "Int64Index: 50 entries, 0 to 49\n",
      "Data columns (total 5 columns):\n",
      "SepalLengthCm    50 non-null float64\n",
      "SepalWidthCm     50 non-null float64\n",
      "PetalLengthCm    50 non-null float64\n",
      "PetalWidthCm     50 non-null float64\n",
      "Species          50 non-null object\n",
      "dtypes: float64(4), object(1)\n",
      "memory usage: 2.3+ KB\n",
      "None\n"
     ]
    }
   ],
   "source": [
    "irisNew = iris[iris['Species'] == 'Iris-setosa']\n",
    "print(irisNew.head())\n",
    "print(irisNew.info())"
   ]
  },
  {
   "cell_type": "markdown",
   "metadata": {},
   "source": [
    "f. Use DataFrame.describe() to get the summary statistics"
   ]
  },
  {
   "cell_type": "code",
   "execution_count": 12,
   "metadata": {
    "collapsed": false
   },
   "outputs": [
    {
     "name": "stdout",
     "output_type": "stream",
     "text": [
      "       SepalLengthCm  SepalWidthCm  PetalLengthCm  PetalWidthCm\n",
      "count     150.000000    150.000000     150.000000    150.000000\n",
      "mean        5.843333      3.054000       3.758667      1.198667\n",
      "std         0.828066      0.433594       1.764420      0.763161\n",
      "min         4.300000      2.000000       1.000000      0.100000\n",
      "25%         5.100000      2.800000       1.600000      0.300000\n",
      "50%         5.800000      3.000000       4.350000      1.300000\n",
      "75%         6.400000      3.300000       5.100000      1.800000\n",
      "max         7.900000      4.400000       6.900000      2.500000\n"
     ]
    }
   ],
   "source": [
    "print(iris.describe())"
   ]
  },
  {
   "cell_type": "markdown",
   "metadata": {},
   "source": [
    "g. Use DataFrame.groupby() to create grouped data frames by Species and compute summary statistics using DataFrame.describe()"
   ]
  },
  {
   "cell_type": "code",
   "execution_count": 13,
   "metadata": {
    "collapsed": false
   },
   "outputs": [
    {
     "name": "stdout",
     "output_type": "stream",
     "text": [
      "                       PetalLengthCm  PetalWidthCm  SepalLengthCm  \\\n",
      "Species                                                             \n",
      "Iris-setosa     count      50.000000     50.000000      50.000000   \n",
      "                mean        1.464000      0.244000       5.006000   \n",
      "                std         0.173511      0.107210       0.352490   \n",
      "                min         1.000000      0.100000       4.300000   \n",
      "                25%         1.400000      0.200000       4.800000   \n",
      "                50%         1.500000      0.200000       5.000000   \n",
      "                75%         1.575000      0.300000       5.200000   \n",
      "                max         1.900000      0.600000       5.800000   \n",
      "Iris-versicolor count      50.000000     50.000000      50.000000   \n",
      "                mean        4.260000      1.326000       5.936000   \n",
      "                std         0.469911      0.197753       0.516171   \n",
      "                min         3.000000      1.000000       4.900000   \n",
      "                25%         4.000000      1.200000       5.600000   \n",
      "                50%         4.350000      1.300000       5.900000   \n",
      "                75%         4.600000      1.500000       6.300000   \n",
      "                max         5.100000      1.800000       7.000000   \n",
      "Iris-virginica  count      50.000000     50.000000      50.000000   \n",
      "                mean        5.552000      2.026000       6.588000   \n",
      "                std         0.551895      0.274650       0.635880   \n",
      "                min         4.500000      1.400000       4.900000   \n",
      "                25%         5.100000      1.800000       6.225000   \n",
      "                50%         5.550000      2.000000       6.500000   \n",
      "                75%         5.875000      2.300000       6.900000   \n",
      "                max         6.900000      2.500000       7.900000   \n",
      "\n",
      "                       SepalWidthCm  \n",
      "Species                              \n",
      "Iris-setosa     count     50.000000  \n",
      "                mean       3.418000  \n",
      "                std        0.381024  \n",
      "                min        2.300000  \n",
      "                25%        3.125000  \n",
      "                50%        3.400000  \n",
      "                75%        3.675000  \n",
      "                max        4.400000  \n",
      "Iris-versicolor count     50.000000  \n",
      "                mean       2.770000  \n",
      "                std        0.313798  \n",
      "                min        2.000000  \n",
      "                25%        2.525000  \n",
      "                50%        2.800000  \n",
      "                75%        3.000000  \n",
      "                max        3.400000  \n",
      "Iris-virginica  count     50.000000  \n",
      "                mean       2.974000  \n",
      "                std        0.322497  \n",
      "                min        2.200000  \n",
      "                25%        2.800000  \n",
      "                50%        3.000000  \n",
      "                75%        3.175000  \n",
      "                max        3.800000  \n"
     ]
    }
   ],
   "source": [
    "print(iris.groupby('Species').describe())"
   ]
  },
  {
   "cell_type": "markdown",
   "metadata": {},
   "source": [
    "h. Use DataFrame.boxplot() to plot boxplots by Species"
   ]
  },
  {
   "cell_type": "code",
   "execution_count": 21,
   "metadata": {
    "collapsed": false
   },
   "outputs": [
    {
     "data": {
      "image/png": "[encoded data removed]",
      "text/plain": [
       "<matplotlib.figure.Figure at 0x118f07518>"
      ]
     },
     "metadata": {},
     "output_type": "display_data"
    },
    {
     "data": {
      "image/png": "[encoded data removed]",
      "text/plain": [
       "<matplotlib.figure.Figure at 0x118fe4e10>"
      ]
     },
     "metadata": {},
     "output_type": "display_data"
    },
    {
     "data": {
      "image/png": "[encoded data removed]",
      "text/plain": [
       "<matplotlib.figure.Figure at 0x1194b17b8>"
      ]
     },
     "metadata": {},
     "output_type": "display_data"
    },
    {
     "data": {
      "image/png": "[encoded data removed]",
      "text/plain": [
       "<matplotlib.figure.Figure at 0x118f1c588>"
      ]
     },
     "metadata": {},
     "output_type": "display_data"
    }
   ],
   "source": [
    "import matplotlib.pyplot as plt\n",
    "\n",
    "iris.boxplot(column = 'SepalLengthCm', by='Species')\n",
    "plt.ylabel('Sepal Length')\n",
    "plt.suptitle(\"\")\n",
    "plt.show()\n",
    "\n",
    "iris.boxplot(column = 'SepalWidthCm', by='Species')\n",
    "plt.ylabel('Sepal Width')\n",
    "plt.suptitle(\"\")\n",
    "plt.show()\n",
    "\n",
    "iris.boxplot(column = 'PetalLengthCm', by='Species')\n",
    "plt.ylabel('Petal Length')\n",
    "plt.suptitle(\"\")\n",
    "plt.show()\n",
    "\n",
    "iris.boxplot(column = 'PetalWidthCm', by='Species')\n",
    "plt.ylabel('Petal Width')\n",
    "plt.suptitle(\"\")\n",
    "plt.show()"
   ]
  },
  {
   "cell_type": "markdown",
   "metadata": {},
   "source": []
  }
 ],
 "metadata": {
  "kernelspec": {
   "display_name": "Python 3",
   "language": "python",
   "name": "python3"
  },
  "language_info": {
   "codemirror_mode": {
    "name": "ipython",
    "version": 3
   },
   "file_extension": ".py",
   "mimetype": "text/x-python",
   "name": "python",
   "nbconvert_exporter": "python",
   "pygments_lexer": "ipython3",
   "version": "3.6.0"
  }
 },
 "nbformat": 4,
 "nbformat_minor": 0
}
