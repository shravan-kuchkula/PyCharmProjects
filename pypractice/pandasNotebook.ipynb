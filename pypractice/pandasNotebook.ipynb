{
 "cells": [
  {
   "cell_type": "markdown",
   "metadata": {
    "collapsed": true
   },
   "source": [
    "## Getting familiar with Pandas"
   ]
  },
  {
   "cell_type": "markdown",
   "metadata": {},
   "source": [
    "Pandas is an open source library, providing high-performance, easy-to-use data structures and data analysis tools for Python. \n",
    "\n",
    "The DataFrame is one of Pandas' most important data structures. It's basically a way to store tabular data where you can label the rows and the columns. One way to build a DataFrame is from a dictionary.\n",
    "\n",
    "In the exercise below you will be working with vehicle data from different countries. Each observation corresponds to a country and the columns give information about the number of vehicles per capita, whether people drive left or right, and so on.\n",
    "\n",
    "Three lists are defined in the script:\n",
    "* `names`, containing the country names for which data is available.\n",
    "* `dr`, a list with booleans that tells whether people drive left or right in the corresponding country.\n",
    "* `cpc`, the number of motor vehicles per 1000 people in the corresponding country.\n",
    "\n",
    "Each dictionary key is a column label and each value is a list which contains the column elements."
   ]
  },
  {
   "cell_type": "markdown",
   "metadata": {},
   "source": [
    "### Dictionary to dataframe"
   ]
  },
  {
   "cell_type": "code",
   "execution_count": 22,
   "metadata": {},
   "outputs": [],
   "source": [
    "# Pre-defined lists\n",
    "names = ['United States', 'Australia', 'Japan', 'India', 'Russia', 'Morocco', 'Egypt']\n",
    "dr =  [True, False, False, False, True, True, True]\n",
    "cpc = [809, 731, 588, 18, 200, 70, 45]"
   ]
  },
  {
   "cell_type": "code",
   "execution_count": 23,
   "metadata": {},
   "outputs": [],
   "source": [
    "# Import pandas as pd\n",
    "import pandas as pd"
   ]
  },
  {
   "cell_type": "code",
   "execution_count": 24,
   "metadata": {},
   "outputs": [],
   "source": [
    "# Create dictionary my_dict with three key:value pairs: my_dict\n",
    "my_dict = { 'country':names, 'drives_right':dr, 'cars_per_cap':cpc }"
   ]
  },
  {
   "cell_type": "code",
   "execution_count": 25,
   "metadata": {},
   "outputs": [],
   "source": [
    "# Build a DataFrame cars from my_dict: cars\n",
    "cars = pd.DataFrame(my_dict)"
   ]
  },
  {
   "cell_type": "code",
   "execution_count": 26,
   "metadata": {},
   "outputs": [
    {
     "name": "stdout",
     "output_type": "stream",
     "text": [
      "   cars_per_cap        country drives_right\n0           809  United States         True\n1           731      Australia        False\n2           588          Japan        False\n3            18          India        False\n4           200         Russia         True\n5            70        Morocco         True\n6            45          Egypt         True\n"
     ]
    }
   ],
   "source": [
    "# Print cars\n",
    "print(cars)"
   ]
  },
  {
   "cell_type": "markdown",
   "metadata": {},
   "source": [
    "Have you noticed that the row labels (i.e. the labels for the different observations) were automatically set to integers from 0 up to 6? To solve this a list `row_labels` has been created. You can use it to specify the row labels of the `cars` DataFrame. You do this by setting the index attribute of `cars`, that you can access as `cars.index`."
   ]
  },
  {
   "cell_type": "code",
   "execution_count": 27,
   "metadata": {},
   "outputs": [
    {
     "name": "stdout",
     "output_type": "stream",
     "text": [
      "     cars_per_cap        country drives_right\nUS            809  United States         True\nAUS           731      Australia        False\nJAP           588          Japan        False\nIN             18          India        False\nRU            200         Russia         True\nMOR            70        Morocco         True\nEG             45          Egypt         True\n"
     ]
    }
   ],
   "source": [
    "# Definition of row_labels\n",
    "row_labels = ['US', 'AUS', 'JAP', 'IN', 'RU', 'MOR', 'EG']\n",
    "cars.index = row_labels\n",
    "print(cars)"
   ]
  },
  {
   "cell_type": "markdown",
   "metadata": {},
   "source": [
    "### CSV to Dataframe"
   ]
  },
  {
   "cell_type": "markdown",
   "metadata": {},
   "source": [
    "Putting data in a dictionary and then building a DataFrame works, but it's not very efficient. What if you're dealing with millions of observations? In those cases, the data is typically available as files with a regular structure. One of those file types is the CSV file, which is short for \"comma-separated values\".\n",
    "\n",
    "To import CSV data into Python as a Pandas DataFrame you can use `read_csv()`.\n",
    "\n",
    "Let's explore this function with the same cars data from the previous exercises. This time, however, the data is available in a CSV file, named cars.csv. It is available in your current working directory, so the path to the file is simply 'cars.csv'."
   ]
  },
  {
   "cell_type": "code",
   "execution_count": 28,
   "metadata": {},
   "outputs": [
    {
     "name": "stdout",
     "output_type": "stream",
     "text": [
      "  Unnamed: 0  cars_per_cap        country drives_right\n0         US           809  United States         True\n1        AUS           731      Australia        False\n2        JAP           588          Japan        False\n3         IN            18          India        False\n4         RU           200         Russia         True\n5        MOR            70        Morocco         True\n6         EG            45          Egypt         True\n"
     ]
    }
   ],
   "source": [
    "url = \"https://assets.datacamp.com/production/course_799/datasets/cars.csv\"\n",
    "# Import the cars.csv data: cars\n",
    "cars = pd.read_csv(url)\n",
    "\n",
    "# Print out cars\n",
    "print(cars)"
   ]
  },
  {
   "cell_type": "markdown",
   "metadata": {},
   "source": [
    "Your `read_csv()` call to import the CSV data didn't generate an error, but the output is not entirely what we wanted. The row labels were imported as another column without a name.\n",
    "\n",
    "Remember index_col, an argument of read_csv(), that you can use to specify which column in the CSV file should be used as a row label? Well, that's exactly what you need here!"
   ]
  },
  {
   "cell_type": "code",
   "execution_count": 29,
   "metadata": {},
   "outputs": [
    {
     "name": "stdout",
     "output_type": "stream",
     "text": [
      "     cars_per_cap        country drives_right\nUS            809  United States         True\nAUS           731      Australia        False\nJAP           588          Japan        False\nIN             18          India        False\nRU            200         Russia         True\nMOR            70        Morocco         True\nEG             45          Egypt         True\n"
     ]
    }
   ],
   "source": [
    "# Fix import by including index_col\n",
    "cars = pd.read_csv(url, index_col = 0)\n",
    "\n",
    "# Print out cars\n",
    "print(cars)"
   ]
  },
  {
   "cell_type": "markdown",
   "metadata": {},
   "source": [
    "### Indexing and Selecting a Pandas Dataframe"
   ]
  },
  {
   "cell_type": "markdown",
   "metadata": {},
   "source": [
    "You can index and select Pandas Dataframes in many different ways. The simplest, but not the most powerful way, is to use square brackets. The `cars` data is imported from a CSV files as a Pandas DataFrame.  To select only the cars_per_cap column from cars, you can use: \n",
    "\n",
    "cars['cars_per_cap']\n",
    "cars[['cars_per_cap']]\n",
    "\n",
    "The single bracket version gives a Pandas Series.\n",
    "The double bracket version gives a Pandas DataFrame."
   ]
  },
  {
   "cell_type": "code",
   "execution_count": 30,
   "metadata": {},
   "outputs": [
    {
     "name": "stdout",
     "output_type": "stream",
     "text": [
      "US     United States\nAUS        Australia\nJAP            Japan\nIN             India\nRU            Russia\nMOR          Morocco\nEG             Egypt\nName: country, dtype: object\n"
     ]
    }
   ],
   "source": [
    "# Print out country column as Pandas Series\n",
    "print(cars['country'])"
   ]
  },
  {
   "cell_type": "code",
   "execution_count": 31,
   "metadata": {},
   "outputs": [
    {
     "name": "stdout",
     "output_type": "stream",
     "text": [
      "           country\nUS   United States\nAUS      Australia\nJAP          Japan\nIN           India\nRU          Russia\nMOR        Morocco\nEG           Egypt\n"
     ]
    }
   ],
   "source": [
    "# Print out country column as Pandas DataFrame\n",
    "print(cars[['country']])"
   ]
  },
  {
   "cell_type": "markdown",
   "metadata": {},
   "source": [
    "Notice the difference in the above two methods. The first returns a pandas series whereas the second returns a pandas dataframe. "
   ]
  },
  {
   "cell_type": "code",
   "execution_count": 32,
   "metadata": {},
   "outputs": [
    {
     "name": "stdout",
     "output_type": "stream",
     "text": [
      "           country drives_right\nUS   United States         True\nAUS      Australia        False\nJAP          Japan        False\nIN           India        False\nRU          Russia         True\nMOR        Morocco         True\nEG           Egypt         True\n"
     ]
    }
   ],
   "source": [
    "# Print out DataFrame with country and drives_right columns\n",
    "print(cars[['country', 'drives_right']])"
   ]
  },
  {
   "cell_type": "markdown",
   "metadata": {},
   "source": [
    "Square brackets can do more than just selecting columns. You can also use them to get rows, or observations, from a DataFrame. The following call selects the first five rows from the cars DataFrame:\n",
    "\n",
    "cars[0:5]\n",
    "\n",
    "The result is another `DataFrame` containing only the rows you specified.\n",
    "\n",
    "Pay attention: You can only select rows using square brackets if you specify a slice, like 0:4. Also, you're using the integer indexes of the rows here, not the row labels!"
   ]
  },
  {
   "cell_type": "code",
   "execution_count": 33,
   "metadata": {},
   "outputs": [
    {
     "name": "stdout",
     "output_type": "stream",
     "text": [
      "     cars_per_cap        country drives_right\nUS            809  United States         True\nAUS           731      Australia        False\nJAP           588          Japan        False\n"
     ]
    }
   ],
   "source": [
    "# Print out first 3 observations\n",
    "print(cars[0:3])"
   ]
  },
  {
   "cell_type": "markdown",
   "metadata": {},
   "source": [
    "Note: Even though you are using a single bracket, since we are selecting rows, the result is a dataframe and not a pandas series. A Pandas Series represents columns. A group of Pandas Series can be merged to form a Pandas DataFrame. We will learn more about the advantages of using a Series object later."
   ]
  },
  {
   "cell_type": "markdown",
   "metadata": {},
   "source": [
    "### Use  of `loc` and `iloc`"
   ]
  },
  {
   "cell_type": "markdown",
   "metadata": {},
   "source": [
    "With loc and iloc you can do practically any data selection operation on DataFrames you can think of. \n",
    "\n",
    "`loc` is label-based, which means that you have to specify rows and columns based on their row and column labels.\n",
    "\n",
    "`iloc` is integer index based, so you have to specify rows and columns by their integer index like you did in the previous exercise.\n"
   ]
  },
  {
   "cell_type": "code",
   "execution_count": 34,
   "metadata": {},
   "outputs": [
    {
     "name": "stdout",
     "output_type": "stream",
     "text": [
      "     cars_per_cap country drives_right\nJAP           588   Japan        False\n"
     ]
    }
   ],
   "source": [
    "# Print out observation for Japan\n",
    "print(cars.loc[['JAP']])"
   ]
  },
  {
   "cell_type": "code",
   "execution_count": 35,
   "metadata": {},
   "outputs": [
    {
     "name": "stdout",
     "output_type": "stream",
     "text": [
      "     cars_per_cap    country drives_right\nAUS           731  Australia        False\nEG             45      Egypt         True\n"
     ]
    }
   ],
   "source": [
    "# Print out observations for Australia and Egypt\n",
    "print(cars.loc[['AUS', 'EG']])"
   ]
  },
  {
   "cell_type": "markdown",
   "metadata": {},
   "source": [
    "`loc` and `iloc` also allow you to select both rows and columns from a DataFrame. "
   ]
  },
  {
   "cell_type": "code",
   "execution_count": 36,
   "metadata": {},
   "outputs": [
    {
     "name": "stdout",
     "output_type": "stream",
     "text": [
      "    drives_right\nMOR         True\n"
     ]
    }
   ],
   "source": [
    "# Print out drives_right value of Morocco\n",
    "print(cars.loc[['MOR'], ['drives_right']])"
   ]
  },
  {
   "cell_type": "code",
   "execution_count": 37,
   "metadata": {},
   "outputs": [
    {
     "name": "stdout",
     "output_type": "stream",
     "text": [
      "     country drives_right\nRU    Russia         True\nMOR  Morocco         True\n"
     ]
    }
   ],
   "source": [
    "# Print sub-DataFrame\n",
    "print(cars.loc[['RU', 'MOR'], ['country', 'drives_right']])"
   ]
  },
  {
   "cell_type": "markdown",
   "metadata": {},
   "source": [
    "It's also possible to select only columns with loc and iloc. In both cases, you simply put a slice going from beginning to end in front of the comma:"
   ]
  },
  {
   "cell_type": "code",
   "execution_count": 38,
   "metadata": {},
   "outputs": [
    {
     "name": "stdout",
     "output_type": "stream",
     "text": [
      "US      True\nAUS    False\nJAP    False\nIN     False\nRU      True\nMOR     True\nEG      True\nName: drives_right, dtype: bool\n"
     ]
    }
   ],
   "source": [
    "# Print out drives_right column as Series\n",
    "print(cars.loc[:,'drives_right'])"
   ]
  },
  {
   "cell_type": "code",
   "execution_count": 39,
   "metadata": {},
   "outputs": [
    {
     "name": "stdout",
     "output_type": "stream",
     "text": [
      "    drives_right\nUS          True\nAUS        False\nJAP        False\nIN         False\nRU          True\nMOR         True\nEG          True\n"
     ]
    }
   ],
   "source": [
    "# Print out drives_right column as DataFrame\n",
    "print(cars.loc[:,['drives_right']])"
   ]
  },
  {
   "cell_type": "markdown",
   "metadata": {},
   "source": [
    "NOTE: It is important to distinguish the use of square brackets when retrievng the columns. First one returns a Pandas Series and the second one returns a Pandas DataFrame."
   ]
  },
  {
   "cell_type": "code",
   "execution_count": null,
   "metadata": {},
   "outputs": [],
   "source": [
    ""
   ]
  },
  {
   "cell_type": "code",
   "execution_count": 39,
   "metadata": {},
   "outputs": [
    {
     "name": "stdout",
     "output_type": "stream",
     "text": [
      "     cars_per_cap drives_right\nUS            809         True\nAUS           731        False\nJAP           588        False\nIN             18        False\nRU            200         True\nMOR            70         True\nEG             45         True\n"
     ]
    }
   ],
   "source": [
    "# Print out cars_per_cap and drives_right as DataFrame\n",
    "print(cars.loc[:,['cars_per_cap', 'drives_right']])"
   ]
  }
 ],
 "metadata": {
  "kernelspec": {
   "display_name": "Python 2",
   "language": "python",
   "name": "python2"
  },
  "language_info": {
   "codemirror_mode": {
    "name": "ipython",
    "version": 2.0
   },
   "file_extension": ".py",
   "mimetype": "text/x-python",
   "name": "python",
   "nbconvert_exporter": "python",
   "pygments_lexer": "ipython2",
   "version": "2.7.6"
  }
 },
 "nbformat": 4,
 "nbformat_minor": 0
}